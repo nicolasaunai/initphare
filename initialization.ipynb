{
 "cells": [
  {
   "cell_type": "markdown",
   "metadata": {},
   "source": [
    "# PHARE from a jupyter notebook\n",
    "\n",
    "First make **pyhphare** and dynamic libraries available to the PYTHONPATH"
   ]
  },
  {
   "cell_type": "code",
   "execution_count": 1,
   "metadata": {},
   "outputs": [],
   "source": [
    "import sys\n",
    "sys.path.append(\"/Users/nicolas/Documents/code/phare/PHARE/pyphare/\")\n",
    "sys.path.append(\"/Users/nicolas/Documents/code/phare/build-PHARE-clang-Debug/\")"
   ]
  },
  {
   "cell_type": "markdown",
   "metadata": {},
   "source": [
    "## Load packages\n",
    "Then load python packages that allows defining the simulation input parameters, initialize and run the simulation, as well as loading data and plot it"
   ]
  },
  {
   "cell_type": "code",
   "execution_count": 2,
   "metadata": {},
   "outputs": [],
   "source": [
    "from pyphare.pharesee.hierarchy import hierarchy_from\n",
    "from pyphare.simulator.simulator import create_simulator\n",
    "from pyphare.pharein import MaxwellianFluidModel\n",
    "from pyphare.pharein import ElectronModel\n",
    "from pyphare.pharein.diagnostics import ElectromagDiagnostics, FluidDiagnostics\n",
    "from pyphare.pharein.simulation import Simulation\n",
    "\n",
    "import matplotlib.pyplot as plt\n",
    "import numpy as np\n",
    "%matplotlib inline"
   ]
  },
  {
   "cell_type": "code",
   "execution_count": 3,
   "metadata": {},
   "outputs": [],
   "source": [
    "# reset\n",
    "from pyphare.pharein import globals\n",
    "globals.sim =None"
   ]
  },
  {
   "cell_type": "markdown",
   "metadata": {},
   "source": [
    "## Define the input simulation parameters\n",
    "\n",
    "### Simulation block\n",
    "\n",
    "The following block let us define the user input parameters for the simulation. Here we define a simulation that will run until $t=30\\Omega_{ci}^{-1}$ for 30000 time steps of the coarsest domain. Boundary conditions are periodic, and the domain is divided in 40 cells of $0.3\\delta_i$ size in the coarsest AMR level.\n",
    "\n",
    "There is a predefined maximum of 2 AMR levels and the refined level is fixed between cells 10 and 20 of the coarsest level (i.e. it has 20 refined cells since refinement ratio is 2).\n",
    "\n",
    "AMR patches are created by SAMRAI and are of size 20 cells wide.  \n",
    "\n",
    "All the other parameters are assumed to take their default values\n",
    "\n"
   ]
  },
  {
   "cell_type": "code",
   "execution_count": 4,
   "metadata": {},
   "outputs": [
    {
     "data": {
      "text/plain": [
       "<pyphare.pharein.simulation.Simulation at 0x11a8d30d0>"
      ]
     },
     "execution_count": 4,
     "metadata": {},
     "output_type": "execute_result"
    }
   ],
   "source": [
    "Simulation(\n",
    "    smallest_patch_size=20,\n",
    "    largest_patch_size=20,\n",
    "    time_step_nbr=30000,        # number of time steps (not specified if time_step and final_time provided)\n",
    "    final_time=30.,             # simulation final time (not specified if time_step and time_step_nbr provided)\n",
    "    boundary_types=\"periodic\", # boundary condition, string or tuple, length == len(cell) == len(dl)\n",
    "    cells=40,                # integer or tuple length == dimension\n",
    "    dl=0.3,                  # mesh size of the root level, float or tuple\n",
    "    max_nbr_levels=2,          # (default=1) max nbr of levels in the AMR hierarchy\n",
    "    refinement_boxes={\"L0\": {\"B0\": [(10, ), (20, )]}},\n",
    "    diag_options={\"format\": \"phareh5\", \"options\": {\"dir\": \"phare_outputs\"}}\n",
    ")"
   ]
  },
  {
   "cell_type": "markdown",
   "metadata": {},
   "source": [
    "### Initial profiles\n",
    "\n",
    "So far only the `MaxwellianFluidModel` can initialize PHARE. This means the user can supply any python function that provide the moments ($n$, $\\mathbf{V}$ and $\\mathbf{V}_{th}$) of all populations of the plasma (with an arbirary number of them) and the magnetic field profile.\n",
    "\n",
    "The `MaxwellianFluidModel` then loads all ion particule populations assuming a local Maxwellian distribution functions with the prescribed profiles\n",
    "\n",
    "These functions can be of arbitrary complexity as long as they respect the dimensionality (i.e. depend only on $x$ in 1D), respect the predefined names. If any is missing, default functions will be used."
   ]
  },
  {
   "cell_type": "code",
   "execution_count": 5,
   "metadata": {},
   "outputs": [
    {
     "name": "stdout",
     "output_type": "stream",
     "text": [
      "Warning: Simulation is periodic but some functions are not\n"
     ]
    },
    {
     "data": {
      "text/plain": [
       "<pyphare.pharein.maxwellian_fluid_model.MaxwellianFluidModel at 0x11a942dd0>"
      ]
     },
     "execution_count": 5,
     "metadata": {},
     "output_type": "execute_result"
    }
   ],
   "source": [
    "def density(x):\n",
    "    return 1.\n",
    "\n",
    "\n",
    "def by(x):\n",
    "    from pyphare.pharein.globals import sim\n",
    "    L = sim.simulation_domain()\n",
    "    return 0.1*np.cos(2*np.pi*x/L[0])\n",
    "\n",
    "def bz(x):\n",
    "    from pyphare.pharein.globals import sim\n",
    "    L = sim.simulation_domain()\n",
    "    return 0.1*np.sin(2*np.pi*x/L[0])\n",
    "\n",
    "def bx(x):\n",
    "    return 1.\n",
    "\n",
    "def vx(x):\n",
    "    return 0.\n",
    "\n",
    "def vy(x):\n",
    "    from pyphare.pharein.globals import sim\n",
    "    L = sim.simulation_domain()\n",
    "    return 0.1*np.cos(2*np.pi*x/L[0])\n",
    "\n",
    "def vz(x):\n",
    "    from pyphare.pharein.globals import sim\n",
    "    L = sim.simulation_domain()\n",
    "    return 0.1*np.sin(2*np.pi*x/L[0])\n",
    "\n",
    "def vthx(x):\n",
    "    return 0.01\n",
    "\n",
    "def vthy(x):\n",
    "    return 0.01\n",
    "\n",
    "def vthz(x):\n",
    "    return 0.01\n",
    "\n",
    "\n",
    "MaxwellianFluidModel(bx=bx, by=by, bz=bz,\n",
    "                     protons={\"charge\": 1,\n",
    "                     \"density\": density,\n",
    "                     \"vbulkx\": vx, \"vbulky\": vy, \"vbulkz\": vz,\n",
    "                     \"vthx\": vthx, \"vthy\": vthy, \"vthz\": vthz,\n",
    "                     \"init\": {\"seed\": 1337}}\n",
    ")"
   ]
  },
  {
   "cell_type": "markdown",
   "metadata": {},
   "source": [
    "### Electron model\n",
    "\n",
    "PHARE is a Hybrid-PIC code, therefore assumes fluid electrons and the user must choose a closure to their fluid state. So far, only the isothermal closure is available, where the electron temperature is a spatial and temporal constant that the user sets."
   ]
  },
  {
   "cell_type": "code",
   "execution_count": 6,
   "metadata": {},
   "outputs": [
    {
     "data": {
      "text/plain": [
       "<pyphare.pharein.electron_model.ElectronModel at 0x10961d910>"
      ]
     },
     "execution_count": 6,
     "metadata": {},
     "output_type": "execute_result"
    }
   ],
   "source": [
    "ElectronModel(closure=\"isothermal\", Te=0.12)"
   ]
  },
  {
   "cell_type": "markdown",
   "metadata": {},
   "source": [
    "## Create and initialize the simulation\n",
    "\n",
    "The following cell creates the simulator associated with the above defined parameters\n",
    "In addition to the `simulator`, it returns the diagnostic manager (`dman`) and the SAMRAI PatchHierarchy wrapper `hier`.\n",
    "\n",
    "Once the simulator created, it is used to initialize the simulation"
   ]
  },
  {
   "cell_type": "code",
   "execution_count": 8,
   "metadata": {},
   "outputs": [],
   "source": [
    "dman, simulator, hier = create_simulator()\n",
    "simulator.initialize()"
   ]
  },
  {
   "cell_type": "markdown",
   "metadata": {},
   "source": [
    "## Getting the data\n",
    "\n",
    "There are two ways to get the data from PHARE:\n",
    "\n",
    "- from diagnostic files\n",
    "- from a `simulator` instance.\n",
    "\n",
    "The first is usually preferable when analyzing data from a previously ran simulation. The second way directly extract copies of the current state of the AMR hierarchy in form of a python data Hierarchy"
   ]
  },
  {
   "cell_type": "code",
   "execution_count": 9,
   "metadata": {},
   "outputs": [],
   "source": [
    "density_hierarchy = hierarchy_from(simulator, hier,  \"density\")"
   ]
  },
  {
   "cell_type": "markdown",
   "metadata": {},
   "source": [
    "Printed hierarchies gives an idea of their structure, in terms of patch boxes per level"
   ]
  },
  {
   "cell_type": "code",
   "execution_count": 10,
   "metadata": {},
   "outputs": [
    {
     "name": "stdout",
     "output_type": "stream",
     "text": [
      "t = 0.0\n",
      "Hierarchy: \n",
      "Level 0\n",
      "    P0 density box is [ 0,19 ] and ghost box is [ -5,24 ]\n",
      "    P1 density box is [ 20,39 ] and ghost box is [ 15,44 ]\n",
      "Level 1\n",
      "    P0 density box is [ 20,41 ] and ghost box is [ 15,46 ]\n",
      "\n"
     ]
    }
   ],
   "source": [
    "print(density_hierarchy)"
   ]
  },
  {
   "cell_type": "markdown",
   "metadata": {},
   "source": [
    "plotting a data hierarchy is the graphical equivalent to printing, it represents patches per level"
   ]
  },
  {
   "cell_type": "code",
   "execution_count": 11,
   "metadata": {},
   "outputs": [
    {
     "data": {
      "image/png": "[encoded data removed]",
      "text/plain": [
       "<Figure size 720x216 with 1 Axes>"
      ]
     },
     "metadata": {
      "needs_background": "light"
     },
     "output_type": "display_data"
    }
   ],
   "source": [
    "density_hierarchy.plot()"
   ]
  },
  {
   "cell_type": "markdown",
   "metadata": {},
   "source": [
    "From the data hierarchy, one can plot the data.\n",
    "In the following cell, we loop over all levels at t=0 (time at which the hierarchy is currently defined) and for each of them, we loop over each Patch, to get the density and plot it."
   ]
  },
  {
   "cell_type": "code",
   "execution_count": 13,
   "metadata": {},
   "outputs": [
    {
     "ename": "NameError",
     "evalue": "name 'nhier' is not defined",
     "output_type": "error",
     "traceback": [
      "\u001b[0;31m---------------------------------------------------------------------------\u001b[0m",
      "\u001b[0;31mNameError\u001b[0m                                 Traceback (most recent call last)",
      "\u001b[0;32m<ipython-input-13-9a7674b3d509>\u001b[0m in \u001b[0;36m<module>\u001b[0;34m\u001b[0m\n\u001b[0;32m----> 1\u001b[0;31m \u001b[0mtimes\u001b[0m \u001b[0;34m=\u001b[0m \u001b[0mnp\u001b[0m\u001b[0;34m.\u001b[0m\u001b[0msort\u001b[0m\u001b[0;34m(\u001b[0m\u001b[0mnp\u001b[0m\u001b[0;34m.\u001b[0m\u001b[0masarray\u001b[0m\u001b[0;34m(\u001b[0m\u001b[0mlist\u001b[0m\u001b[0;34m(\u001b[0m\u001b[0mnhier\u001b[0m\u001b[0;34m.\u001b[0m\u001b[0mtime_hier\u001b[0m\u001b[0;34m.\u001b[0m\u001b[0mkeys\u001b[0m\u001b[0;34m(\u001b[0m\u001b[0;34m)\u001b[0m\u001b[0;34m)\u001b[0m\u001b[0;34m)\u001b[0m\u001b[0;34m)\u001b[0m\u001b[0;34m\u001b[0m\u001b[0;34m\u001b[0m\u001b[0m\n\u001b[0m\u001b[1;32m      2\u001b[0m \u001b[0mfig\u001b[0m\u001b[0;34m,\u001b[0m\u001b[0max\u001b[0m \u001b[0;34m=\u001b[0m \u001b[0mplt\u001b[0m\u001b[0;34m.\u001b[0m\u001b[0msubplots\u001b[0m\u001b[0;34m(\u001b[0m\u001b[0mfigsize\u001b[0m\u001b[0;34m=\u001b[0m\u001b[0;34m(\u001b[0m\u001b[0;36m10\u001b[0m\u001b[0;34m,\u001b[0m\u001b[0;36m6\u001b[0m\u001b[0;34m)\u001b[0m\u001b[0;34m)\u001b[0m\u001b[0;34m\u001b[0m\u001b[0;34m\u001b[0m\u001b[0m\n\u001b[1;32m      3\u001b[0m \u001b[0mt\u001b[0m \u001b[0;34m=\u001b[0m \u001b[0;36m0\u001b[0m\u001b[0;34m\u001b[0m\u001b[0;34m\u001b[0m\u001b[0m\n\u001b[1;32m      4\u001b[0m \u001b[0;32mfor\u001b[0m \u001b[0mil\u001b[0m\u001b[0;34m,\u001b[0m\u001b[0mlevel\u001b[0m \u001b[0;32min\u001b[0m \u001b[0mdensity_hierarchy\u001b[0m\u001b[0;34m.\u001b[0m\u001b[0mlevels\u001b[0m\u001b[0;34m(\u001b[0m\u001b[0mt\u001b[0m\u001b[0;34m)\u001b[0m\u001b[0;34m.\u001b[0m\u001b[0mitems\u001b[0m\u001b[0;34m(\u001b[0m\u001b[0;34m)\u001b[0m\u001b[0;34m:\u001b[0m\u001b[0;34m\u001b[0m\u001b[0;34m\u001b[0m\u001b[0m\n\u001b[1;32m      5\u001b[0m     \u001b[0mprint\u001b[0m\u001b[0;34m(\u001b[0m\u001b[0mit\u001b[0m\u001b[0;34m,\u001b[0m \u001b[0mt\u001b[0m\u001b[0;34m,\u001b[0m \u001b[0mil\u001b[0m\u001b[0;34m,\u001b[0m \u001b[0mtype\u001b[0m\u001b[0;34m(\u001b[0m\u001b[0mlevel\u001b[0m\u001b[0;34m)\u001b[0m\u001b[0;34m)\u001b[0m\u001b[0;34m\u001b[0m\u001b[0;34m\u001b[0m\u001b[0m\n",
      "\u001b[0;31mNameError\u001b[0m: name 'nhier' is not defined"
     ]
    }
   ],
   "source": [
    "times = np.sort(np.asarray(list(nhier.time_hier.keys())))\n",
    "fig,ax = plt.subplots(figsize=(10,6))\n",
    "t = 0\n",
    "for il,level in density_hierarchy.levels(t).items():\n",
    "    print(it, t, il, type(level))\n",
    "    patches = level.patches\n",
    "    if il==0:\n",
    "        marker=\"+\"\n",
    "        alpha=1\n",
    "        ls='-'\n",
    "    else:\n",
    "        marker=\"o\"\n",
    "        alpha=0.4\n",
    "        ls='none'\n",
    "    for ip,patch in enumerate(patches):\n",
    "        val         = patch.patch_datas[\"density\"].dataset[:]\n",
    "        x_val       = patch.patch_datas[\"density\"].x\n",
    "        ax.plot(x_val, val, label=r\"$N_i$ Level {} patch {}\".format(il,ip), marker=marker,alpha=alpha,ls=ls)\n",
    "        ax.set_ylim((0,1.5))\n",
    "ax.legend(ncol=4)\n",
    "ax.set_title(\"t = {:05.2f}\".format(t))"
   ]
  },
  {
   "cell_type": "code",
   "execution_count": null,
   "metadata": {},
   "outputs": [],
   "source": []
  },
  {
   "cell_type": "code",
   "execution_count": null,
   "metadata": {},
   "outputs": [],
   "source": []
  }
 ],
 "metadata": {
  "kernelspec": {
   "display_name": "Python 3",
   "language": "python",
   "name": "python3"
  },
  "language_info": {
   "codemirror_mode": {
    "name": "ipython",
    "version": 3
   },
   "file_extension": ".py",
   "mimetype": "text/x-python",
   "name": "python",
   "nbconvert_exporter": "python",
   "pygments_lexer": "ipython3",
   "version": "3.7.7"
  }
 },
 "nbformat": 4,
 "nbformat_minor": 4
}
